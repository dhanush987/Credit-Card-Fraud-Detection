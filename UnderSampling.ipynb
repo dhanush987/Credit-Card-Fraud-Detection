{
 "cells": [
  {
   "cell_type": "markdown",
   "metadata": {},
   "source": [
    "## Logistic Regression with Undersampling"
   ]
  },
  {
   "cell_type": "markdown",
   "metadata": {},
   "source": [
    "Importing important libraries and modules. "
   ]
  },
  {
   "cell_type": "code",
   "execution_count": 17,
   "metadata": {},
   "outputs": [],
   "source": [
    "import pandas as pd\n",
    "import numpy as np\n",
    "import matplotlib.pyplot as plt\n",
    "from sklearn.preprocessing import StandardScaler\n",
    "from sklearn.model_selection import train_test_split\n",
    "from sklearn.linear_model import LogisticRegression\n",
    "from sklearn.model_selection import KFold, cross_val_score\n",
    "from sklearn.metrics import confusion_matrix \n",
    "import itertools\n",
    "from sklearn.metrics import accuracy_score\n",
    "from sklearn.metrics import confusion_matrix,precision_recall_curve,auc,roc_auc_score,roc_curve,recall_score,classification_report \n",
    "\n",
    "%matplotlib inline"
   ]
  },
  {
   "cell_type": "markdown",
   "metadata": {},
   "source": [
    "Defining the utility function called plot_confusion_matrix for displaying the confusion matrix in a nice UI."
   ]
  },
  {
   "cell_type": "code",
   "execution_count": 2,
   "metadata": {},
   "outputs": [],
   "source": [
    "def plot_confusion_matrix(cm, classes, normalize=False, title='Confusion matrix', cmap=plt.cm.Blues):\n",
    "    plt.imshow(cm, interpolation='nearest', cmap=cmap)\n",
    "    plt.title(title)\n",
    "    plt.colorbar()\n",
    "    tick_marks = np.arange(len(classes))\n",
    "    plt.xticks(tick_marks, classes, rotation=45)\n",
    "    plt.yticks(tick_marks, classes)\n",
    "    thresh = cm.max() / 2.\n",
    "    for i, j in itertools.product(range(cm.shape[0]), range(cm.shape[1])):\n",
    "        plt.text(j, i, cm[i, j], horizontalalignment=\"center\", color=\"white\" if cm[i, j] > thresh else \"black\")\n",
    "    plt.tight_layout()\n",
    "    plt.ylabel('True label')\n",
    "    plt.xlabel('Predicted label')\n",
    "    plt.show()"
   ]
  },
  {
   "cell_type": "markdown",
   "metadata": {},
   "source": [
    "Defining the utility function called show_data for displaying precision, recall and accuracy from the confusion matrix."
   ]
  },
  {
   "cell_type": "code",
   "execution_count": 3,
   "metadata": {},
   "outputs": [],
   "source": [
    "def show_data(cm, print_res = 0):\n",
    "    tp = cm[1,1]\n",
    "    fn = cm[1,0]\n",
    "    fp = cm[0,1]\n",
    "    tn = cm[0,0]\n",
    "    if print_res == 1:\n",
    "        print('Precision =     {:.3f}'.format(tp/(tp+fp)))\n",
    "        print('Recall (TPR) =  {:.3f}'.format(tp/(tp+fn)))\n",
    "        print('Accuracy =  {:.3f}'.format((tp+tn)/(tp+tn+fp+fn)))\n",
    "    return tp/(tp+fp), tp/(tp+fn)"
   ]
  },
  {
   "cell_type": "markdown",
   "metadata": {},
   "source": [
    "Defining Kfol crossvalidator"
   ]
  },
  {
   "cell_type": "code",
   "execution_count": 4,
   "metadata": {
    "collapsed": true
   },
   "outputs": [],
   "source": [
    "def kfold_wrapper(X_train, y_train):    \n",
    "    c_params = [0.01,0.1,1,10,100]\n",
    "    list_mean_recall = []\n",
    "    kf = KFold(n_splits=5)\n",
    "    #print(list(train_index))\n",
    "    for c in c_params:\n",
    "        print(\"-\"*50)\n",
    "        print(\"C Parameter: \", c)\n",
    "        itr = 1\n",
    "        recall_accs = []\n",
    "        for train_index, val_index in kf.split(X_train):\n",
    "            lr = LogisticRegression(C = c, penalty = 'l1')\n",
    "            lr.fit(X_train.iloc[train_index],y_train.iloc[train_index])\n",
    "            y_pred_undersample = lr.predict(X_train.iloc[val_index])\n",
    "            recall_acc = recall_score(y_train.iloc[val_index],y_pred_undersample)\n",
    "            recall_accs.append(recall_acc)\n",
    "            print(\"Iteration: \",itr, \" Recall Score: \", recall_acc)\n",
    "            itr+=1\n",
    "        mean_recall = np.mean(recall_accs)\n",
    "        print(\"Mean Recall Score: \", mean_recall)\n",
    "        list_mean_recall.append(mean_recall)\n",
    "    recall_c = pd.DataFrame({'c':c_params, 'mean_recall':list_mean_recall})\n",
    "    display(recall_c)\n",
    "    best_cparam = recall_c.iloc[recall_c.idxmax()['mean_recall']]['c']\n",
    "    print(\"Best C Parameter: \", best_cparam)\n",
    "    return best_cparam"
   ]
  },
  {
   "cell_type": "markdown",
   "metadata": {},
   "source": [
    "Loading data from csv file to the dataframe."
   ]
  },
  {
   "cell_type": "code",
   "execution_count": 5,
   "metadata": {},
   "outputs": [
    {
     "name": "stdout",
     "output_type": "stream",
     "text": [
      "(284807, 31)\n"
     ]
    }
   ],
   "source": [
    "data = pd.read_csv('https://people.rit.edu/~hvp4259/project/data/creditcard.csv')\n",
    "print(data.shape)"
   ]
  },
  {
   "cell_type": "markdown",
   "metadata": {},
   "source": [
    "Separating features from class variables. "
   ]
  },
  {
   "cell_type": "code",
   "execution_count": 12,
   "metadata": {},
   "outputs": [
    {
     "name": "stdout",
     "output_type": "stream",
     "text": [
      "(284807, 30)\n",
      "(284807,)\n"
     ]
    }
   ],
   "source": [
    "X = data.drop(['Class'], axis=1)\n",
    "y = data['Class']\n",
    "print(X.shape)\n",
    "print(y.shape)"
   ]
  },
  {
   "cell_type": "markdown",
   "metadata": {},
   "source": [
    "Extracting fraud data. Also making the undersampled subdataset with entire population of fraud class and same number of non fraud class instances in the undersampled subdataset. "
   ]
  },
  {
   "cell_type": "code",
   "execution_count": 22,
   "metadata": {},
   "outputs": [
    {
     "name": "stdout",
     "output_type": "stream",
     "text": [
      "Percentage of normal transactions:  0.5\n",
      "Percentage of fraud transactions:  0.5\n",
      "Total number of transactions in resampled data:  984\n"
     ]
    }
   ],
   "source": [
    "number_records_fraud = len(data[data.Class == 1])\n",
    "fraud_record = data[data.Class == 1]\n",
    "X_fraud_record = fraud_record.drop(['Class'], axis=1)\n",
    "y_fraud_record = fraud_record['Class']\n",
    "\n",
    "fraud_indices = np.array(data[data.Class == 1].index)\n",
    "normal_indices = data[data.Class == 0].index\n",
    "\n",
    "# Out of the indices we picked, randomly select \"x\" number (number_records_fraud)\n",
    "random_normal_indices = np.random.choice(normal_indices, number_records_fraud, replace = False)\n",
    "random_normal_indices = np.array(random_normal_indices)\n",
    "\n",
    "# Appending the 2 indices\n",
    "under_sample_indices = np.concatenate([fraud_indices,random_normal_indices])\n",
    "\n",
    "# Under sample dataset\n",
    "under_sample_data = data.iloc[under_sample_indices,:]\n",
    "\n",
    "X_undersample = under_sample_data.drop(['Class'], axis=1)\n",
    "y_undersample = under_sample_data['Class']\n",
    "\n",
    "print(\"Percentage of normal transactions: \", len(under_sample_data[under_sample_data.Class == 0])/len(under_sample_data))\n",
    "print(\"Percentage of fraud transactions: \", len(under_sample_data[under_sample_data.Class == 1])/len(under_sample_data))\n",
    "print(\"Total number of transactions in resampled data: \", len(under_sample_data))"
   ]
  },
  {
   "cell_type": "markdown",
   "metadata": {},
   "source": [
    "Splitting training and test data from undersampled subdataset."
   ]
  },
  {
   "cell_type": "code",
   "execution_count": 23,
   "metadata": {},
   "outputs": [
    {
     "name": "stdout",
     "output_type": "stream",
     "text": [
      "\n",
      "Number transactions train dataset:  688\n",
      "Number transactions test dataset:  296\n",
      "Total number of transactions:  984\n"
     ]
    }
   ],
   "source": [
    "# Whole dataset\n",
    "#X_train, X_test, y_train, y_test = train_test_split(X, y, test_size = 0.3, random_state = 0)\n",
    "\n",
    "#print(\"Number transactions train dataset: \", len(X_train))\n",
    "#print(\"Number transactions test dataset: \", len(X_test))\n",
    "#print(\"Total number of transactions: \", len(X_train) + len(X_test))\n",
    "\n",
    "# Undersampled dataset\n",
    "X_train_undersample, X_test_undersample, y_train_undersample, y_test_undersample = train_test_split(X_undersample ,y_undersample ,test_size = 0.3 ,random_state = 0)\n",
    "print(\"\")\n",
    "print(\"Number transactions train dataset: \", len(X_train_undersample))\n",
    "print(\"Number transactions test dataset: \", len(X_test_undersample))\n",
    "print(\"Total number of transactions: \", len(X_train_undersample) + len(X_test_undersample))"
   ]
  },
  {
   "cell_type": "markdown",
   "metadata": {},
   "source": [
    "Training the model and applying the model on test data and ploting the congusion matrix. "
   ]
  },
  {
   "cell_type": "code",
   "execution_count": 24,
   "metadata": {},
   "outputs": [
    {
     "name": "stdout",
     "output_type": "stream",
     "text": [
      "--------------------------------------------------\n",
      "C Parameter:  0.01\n",
      "Iteration:  1  Recall Score:  0.794520547945\n",
      "Iteration:  2  Recall Score:  0.821917808219\n",
      "Iteration:  3  Recall Score:  0.864406779661\n",
      "Iteration:  4  Recall Score:  0.878378378378\n",
      "Iteration:  5  Recall Score:  0.893939393939\n",
      "Mean Recall Score:  0.850632581629\n",
      "--------------------------------------------------\n",
      "C Parameter:  0.1\n",
      "Iteration:  1  Recall Score:  0.849315068493\n",
      "Iteration:  2  Recall Score:  0.849315068493\n",
      "Iteration:  3  Recall Score:  0.949152542373\n",
      "Iteration:  4  Recall Score:  0.918918918919\n",
      "Iteration:  5  Recall Score:  0.893939393939\n",
      "Mean Recall Score:  0.892128198443\n",
      "--------------------------------------------------\n",
      "C Parameter:  1\n",
      "Iteration:  1  Recall Score:  0.86301369863\n",
      "Iteration:  2  Recall Score:  0.904109589041\n",
      "Iteration:  3  Recall Score:  0.966101694915\n",
      "Iteration:  4  Recall Score:  0.945945945946\n",
      "Iteration:  5  Recall Score:  0.878787878788\n",
      "Mean Recall Score:  0.911591761464\n",
      "--------------------------------------------------\n",
      "C Parameter:  10\n",
      "Iteration:  1  Recall Score:  0.876712328767\n",
      "Iteration:  2  Recall Score:  0.904109589041\n",
      "Iteration:  3  Recall Score:  0.966101694915\n",
      "Iteration:  4  Recall Score:  0.945945945946\n",
      "Iteration:  5  Recall Score:  0.909090909091\n",
      "Mean Recall Score:  0.920392093552\n",
      "--------------------------------------------------\n",
      "C Parameter:  100\n",
      "Iteration:  1  Recall Score:  0.876712328767\n",
      "Iteration:  2  Recall Score:  0.904109589041\n",
      "Iteration:  3  Recall Score:  0.966101694915\n",
      "Iteration:  4  Recall Score:  0.945945945946\n",
      "Iteration:  5  Recall Score:  0.909090909091\n",
      "Mean Recall Score:  0.920392093552\n"
     ]
    },
    {
     "data": {
      "text/html": [
       "<div>\n",
       "<style>\n",
       "    .dataframe thead tr:only-child th {\n",
       "        text-align: right;\n",
       "    }\n",
       "\n",
       "    .dataframe thead th {\n",
       "        text-align: left;\n",
       "    }\n",
       "\n",
       "    .dataframe tbody tr th {\n",
       "        vertical-align: top;\n",
       "    }\n",
       "</style>\n",
       "<table border=\"1\" class=\"dataframe\">\n",
       "  <thead>\n",
       "    <tr style=\"text-align: right;\">\n",
       "      <th></th>\n",
       "      <th>c</th>\n",
       "      <th>mean_recall</th>\n",
       "    </tr>\n",
       "  </thead>\n",
       "  <tbody>\n",
       "    <tr>\n",
       "      <th>0</th>\n",
       "      <td>0.01</td>\n",
       "      <td>0.850633</td>\n",
       "    </tr>\n",
       "    <tr>\n",
       "      <th>1</th>\n",
       "      <td>0.10</td>\n",
       "      <td>0.892128</td>\n",
       "    </tr>\n",
       "    <tr>\n",
       "      <th>2</th>\n",
       "      <td>1.00</td>\n",
       "      <td>0.911592</td>\n",
       "    </tr>\n",
       "    <tr>\n",
       "      <th>3</th>\n",
       "      <td>10.00</td>\n",
       "      <td>0.920392</td>\n",
       "    </tr>\n",
       "    <tr>\n",
       "      <th>4</th>\n",
       "      <td>100.00</td>\n",
       "      <td>0.920392</td>\n",
       "    </tr>\n",
       "  </tbody>\n",
       "</table>\n",
       "</div>"
      ],
      "text/plain": [
       "        c  mean_recall\n",
       "0    0.01     0.850633\n",
       "1    0.10     0.892128\n",
       "2    1.00     0.911592\n",
       "3   10.00     0.920392\n",
       "4  100.00     0.920392"
      ]
     },
     "metadata": {},
     "output_type": "display_data"
    },
    {
     "name": "stdout",
     "output_type": "stream",
     "text": [
      "Best C Parameter:  10.0\n"
     ]
    }
   ],
   "source": [
    "best_c_param = kfold_wrapper(X_train_undersample, y_train_undersample)"
   ]
  },
  {
   "cell_type": "code",
   "execution_count": 25,
   "metadata": {},
   "outputs": [
    {
     "name": "stdout",
     "output_type": "stream",
     "text": [
      "[[145   4]\n",
      " [ 11 136]]\n"
     ]
    },
    {
     "data": {
      "image/png": "[encoded data removed]",
      "text/plain": [
       "<matplotlib.figure.Figure at 0xc653160>"
      ]
     },
     "metadata": {},
     "output_type": "display_data"
    },
    {
     "name": "stdout",
     "output_type": "stream",
     "text": [
      "Precision =     0.971\n",
      "Recall (TPR) =  0.925\n",
      "Accuracy =  0.949\n"
     ]
    }
   ],
   "source": [
    "lr = LogisticRegression(C = best_c_param, penalty = 'l2')\n",
    "lr.fit(X_train_undersample, y_train_undersample.values.ravel())\n",
    "y_pred_undersample = lr.predict(X_test_undersample.values)\n",
    "\n",
    "cnf_matrix = confusion_matrix(y_test_undersample,y_pred_undersample)\n",
    "np.set_printoptions(precision=2)\n",
    "\n",
    "print(cnf_matrix)\n",
    "plot_confusion_matrix(cnf_matrix, ['0', '1'], title = 'Confusion Matrix - Under Sampled Test Data')\n",
    "pr, tpr = show_data(cnf_matrix, print_res = 1);"
   ]
  },
  {
   "cell_type": "markdown",
   "metadata": {},
   "source": [
    "Applying the model on fraud data only and ploting the congusion matrix. "
   ]
  },
  {
   "cell_type": "code",
   "execution_count": 26,
   "metadata": {},
   "outputs": [
    {
     "name": "stdout",
     "output_type": "stream",
     "text": [
      "[[  0   0]\n",
      " [ 42 450]]\n"
     ]
    },
    {
     "data": {
      "image/png": "[encoded data removed]",
      "text/plain": [
       "<matplotlib.figure.Figure at 0xc0e9898>"
      ]
     },
     "metadata": {},
     "output_type": "display_data"
    },
    {
     "name": "stdout",
     "output_type": "stream",
     "text": [
      "Precision =     1.000\n",
      "Recall (TPR) =  0.915\n",
      "Accuracy =  0.915\n"
     ]
    }
   ],
   "source": [
    "#lr = LogisticRegression(C = 0.01, penalty = 'l2')\n",
    "#lr.fit(X_train_undersample, y_train_undersample.values.ravel())\n",
    "y_pred_fraud_record = lr.predict(X_fraud_record)\n",
    "\n",
    "cnf_matrix = confusion_matrix(y_fraud_record, y_pred_fraud_record)\n",
    "np.set_printoptions(precision=2)\n",
    "\n",
    "print(cnf_matrix)\n",
    "plot_confusion_matrix(cnf_matrix, ['0', '1'], title = 'Confusion Matrix - Fraud Records')\n",
    "pr, tpr = show_data(cnf_matrix, print_res = 1);"
   ]
  },
  {
   "cell_type": "markdown",
   "metadata": {},
   "source": [
    "Applying the model on entire dataset and plotting the confusion matrix. "
   ]
  },
  {
   "cell_type": "code",
   "execution_count": 27,
   "metadata": {},
   "outputs": [
    {
     "name": "stdout",
     "output_type": "stream",
     "text": [
      "[[275264   9051]\n",
      " [    42    450]]\n"
     ]
    },
    {
     "data": {
      "image/png": "[encoded data removed]",
      "text/plain": [
       "<matplotlib.figure.Figure at 0xc6a1d30>"
      ]
     },
     "metadata": {},
     "output_type": "display_data"
    },
    {
     "name": "stdout",
     "output_type": "stream",
     "text": [
      "Precision =     0.047\n",
      "Recall (TPR) =  0.915\n",
      "Accuracy =  0.968\n"
     ]
    }
   ],
   "source": [
    "#lr = LogisticRegression(C = 0.01, penalty = 'l2')\n",
    "#lr.fit(X_train_undersample, y_train_undersample.values.ravel())\n",
    "y_pred_all = lr.predict(X.values)\n",
    "\n",
    "cnf_matrix = confusion_matrix(y, y_pred_all)\n",
    "np.set_printoptions(precision=2)\n",
    "\n",
    "print(cnf_matrix)\n",
    "plot_confusion_matrix(cnf_matrix, ['0', '1'], title = 'Confusion Matrix - Entire Dataset')\n",
    "pr, tpr = show_data(cnf_matrix, print_res = 1);"
   ]
  }
 ],
 "metadata": {
  "kernelspec": {
   "display_name": "Python 3",
   "language": "python",
   "name": "python3"
  },
  "language_info": {
   "codemirror_mode": {
    "name": "ipython",
    "version": 3
   },
   "file_extension": ".py",
   "mimetype": "text/x-python",
   "name": "python",
   "nbconvert_exporter": "python",
   "pygments_lexer": "ipython3",
   "version": "3.6.3"
  }
 },
 "nbformat": 4,
 "nbformat_minor": 2
}
