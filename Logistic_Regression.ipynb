{
 "cells": [
  {
   "cell_type": "markdown",
   "metadata": {},
   "source": [
    "## Logistic Regression "
   ]
  },
  {
   "cell_type": "markdown",
   "metadata": {},
   "source": [
    "Importing important libraries and modules. "
   ]
  },
  {
   "cell_type": "code",
   "execution_count": 18,
   "metadata": {},
   "outputs": [],
   "source": [
    "import pandas as pd\n",
    "from sklearn.model_selection import train_test_split\n",
    "from sklearn.metrics import confusion_matrix\n",
    "import matplotlib.pyplot as plt\n",
    "import numpy as np\n",
    "import itertools\n",
    "from sklearn.linear_model import LogisticRegression\n",
    "from sklearn.model_selection import KFold, cross_val_score\n",
    "from sklearn.metrics import confusion_matrix,precision_recall_curve,auc,roc_auc_score,roc_curve,recall_score,classification_report \n"
   ]
  },
  {
   "cell_type": "markdown",
   "metadata": {},
   "source": [
    "Defining the utility function called plot_confusion_matrix for displaying the confusion matrix in a nice UI."
   ]
  },
  {
   "cell_type": "code",
   "execution_count": 2,
   "metadata": {
    "collapsed": true
   },
   "outputs": [],
   "source": [
    "def plot_confusion_matrix(cm, classes, normalize = False, title = 'Confusion matrix', cmap = plt.cm.Blues):\n",
    "    plt.imshow(cm, interpolation ='nearest', cmap = cmap)\n",
    "    plt.title(title)\n",
    "    plt.colorbar()\n",
    "    tick_marks = np.arange(len(classes))\n",
    "    plt.xticks(tick_marks, classes, rotation=45)\n",
    "    plt.yticks(tick_marks, classes)\n",
    "    thresh = cm.max() / 2.\n",
    "    for i, j in itertools.product(range(cm.shape[0]), range(cm.shape[1])):\n",
    "        plt.text(j, i, cm[i, j],\n",
    "                 horizontalalignment = \"center\",\n",
    "                 color=\"white\" if cm[i, j] > thresh else \"black\")\n",
    "    plt.tight_layout()\n",
    "    plt.ylabel('True label')\n",
    "    plt.xlabel('Predicted label')\n",
    "    plt.show()"
   ]
  },
  {
   "cell_type": "markdown",
   "metadata": {},
   "source": [
    "Defining the utility function called show_data for displaying precision, recall and accuracy from the confusion matrix."
   ]
  },
  {
   "cell_type": "code",
   "execution_count": 3,
   "metadata": {
    "collapsed": true
   },
   "outputs": [],
   "source": [
    "def show_data(cm, print_res = 0):\n",
    "    tp = cm[1,1]\n",
    "    fn = cm[1,0]\n",
    "    fp = cm[0,1]\n",
    "    tn = cm[0,0]\n",
    "    if print_res == 1:\n",
    "        print('Precision    =  {:.5f}'.format(tp / (tp + fp)))\n",
    "        print('Recall (TPR) =  {:.5f}'.format(tp / (tp + fn)))\n",
    "        print('Accuracy     =  {:.5f}'.format((tp + tn) / (tp + tn + fp + fn)))\n",
    "    return tp / (tp + fp), tp / (tp + fn), (tp + tn) / (tp + tn + fp + fn) "
   ]
  },
  {
   "cell_type": "markdown",
   "metadata": {},
   "source": [
    "K-Fold Cross validating "
   ]
  },
  {
   "cell_type": "code",
   "execution_count": 13,
   "metadata": {
    "collapsed": true
   },
   "outputs": [],
   "source": [
    "def kfold_wrapper(X_train, y_train):    \n",
    "    c_params = [0.01,0.1,1,10,100]\n",
    "    list_mean_recall = []\n",
    "    kf = KFold(n_splits=5)\n",
    "    #print(list(train_index))\n",
    "    for c in c_params:\n",
    "        print(\"-\"*50)\n",
    "        print(\"C Parameter: \", c)\n",
    "        itr = 1\n",
    "        recall_accs = []\n",
    "        for train_index, val_index in kf.split(X_train):\n",
    "            lr = LogisticRegression(C = c, penalty = 'l1')\n",
    "            lr.fit(X_train.iloc[train_index],y_train.iloc[train_index])\n",
    "            y_pred_undersample = lr.predict(X_train.iloc[val_index])\n",
    "            recall_acc = recall_score(y_train.iloc[val_index],y_pred_undersample)\n",
    "            recall_accs.append(recall_acc)\n",
    "            print(\"Iteration: \",itr, \" Recall Score: \", recall_acc)\n",
    "            itr+=1\n",
    "        mean_recall = np.mean(recall_accs)\n",
    "        print(\"Mean Recall Score: \", mean_recall)\n",
    "        list_mean_recall.append(mean_recall)\n",
    "    recall_c = pd.DataFrame({'c':c_params, 'mean_recall':list_mean_recall})\n",
    "    display(recall_c)\n",
    "    best_cparam = recall_c.iloc[recall_c.idxmax()['mean_recall']]['c']\n",
    "    print(\"Best C Parameter: \", best_cparam)\n",
    "    return best_cparam"
   ]
  },
  {
   "cell_type": "markdown",
   "metadata": {},
   "source": [
    "Loading data from csv file to the dataframe. Extracting fraud records from it. "
   ]
  },
  {
   "cell_type": "code",
   "execution_count": 4,
   "metadata": {},
   "outputs": [
    {
     "name": "stdout",
     "output_type": "stream",
     "text": [
      "(492, 30)\n",
      "(492,)\n"
     ]
    }
   ],
   "source": [
    "df = pd.read_csv('https://people.rit.edu/~hvp4259/project/data/creditcard.csv')\n",
    "fraud = df[df['Class'].isin([1])]\n",
    "X_fraud = fraud[fraud.columns[0:30]]\n",
    "Y_fraud = fraud[fraud.columns[30]]\n",
    "print(X_fraud.shape)\n",
    "print(Y_fraud.shape)"
   ]
  },
  {
   "cell_type": "markdown",
   "metadata": {},
   "source": [
    "Examining the shape of the dataframe in order to check if all the instances are loaded correctly or not. "
   ]
  },
  {
   "cell_type": "code",
   "execution_count": 5,
   "metadata": {},
   "outputs": [
    {
     "data": {
      "text/plain": [
       "(284807, 31)"
      ]
     },
     "execution_count": 5,
     "metadata": {},
     "output_type": "execute_result"
    }
   ],
   "source": [
    "df.shape"
   ]
  },
  {
   "cell_type": "markdown",
   "metadata": {},
   "source": [
    "Splitting the data between test and training data. Also checking the shape for trainign features and test features. "
   ]
  },
  {
   "cell_type": "code",
   "execution_count": 6,
   "metadata": {},
   "outputs": [],
   "source": [
    "X, Xt, Y, Yt = train_test_split(df.drop('Class', axis=1), df['Class'], test_size=0.10, random_state=10)"
   ]
  },
  {
   "cell_type": "code",
   "execution_count": 7,
   "metadata": {},
   "outputs": [
    {
     "data": {
      "text/plain": [
       "(256326, 30)"
      ]
     },
     "execution_count": 7,
     "metadata": {},
     "output_type": "execute_result"
    }
   ],
   "source": [
    "X.shape"
   ]
  },
  {
   "cell_type": "code",
   "execution_count": 8,
   "metadata": {},
   "outputs": [
    {
     "data": {
      "text/plain": [
       "(28481, 30)"
      ]
     },
     "execution_count": 8,
     "metadata": {},
     "output_type": "execute_result"
    }
   ],
   "source": [
    "Xt.shape"
   ]
  },
  {
   "cell_type": "markdown",
   "metadata": {},
   "source": [
    "Training the model and applying logistic regression with constatnt of regulization being 0.01 and penatly norms being l2. "
   ]
  },
  {
   "cell_type": "code",
   "execution_count": 20,
   "metadata": {},
   "outputs": [
    {
     "name": "stdout",
     "output_type": "stream",
     "text": [
      "--------------------------------------------------\n",
      "C Parameter:  0.01\n",
      "Iteration:  1  Recall Score:  0.529411764706\n",
      "Iteration:  2  Recall Score:  0.602272727273\n",
      "Iteration:  3  Recall Score:  0.471153846154\n",
      "Iteration:  4  Recall Score:  0.55\n",
      "Iteration:  5  Recall Score:  0.586206896552\n",
      "Mean Recall Score:  0.547809046937\n",
      "--------------------------------------------------\n",
      "C Parameter:  0.1\n",
      "Iteration:  1  Recall Score:  0.611764705882\n",
      "Iteration:  2  Recall Score:  0.613636363636\n",
      "Iteration:  3  Recall Score:  0.528846153846\n",
      "Iteration:  4  Recall Score:  0.675\n",
      "Iteration:  5  Recall Score:  0.655172413793\n",
      "Mean Recall Score:  0.616883927432\n",
      "--------------------------------------------------\n",
      "C Parameter:  1\n",
      "Iteration:  1  Recall Score:  0.623529411765\n",
      "Iteration:  2  Recall Score:  0.636363636364\n",
      "Iteration:  3  Recall Score:  0.538461538462\n",
      "Iteration:  4  Recall Score:  0.675\n",
      "Iteration:  5  Recall Score:  0.712643678161\n",
      "Mean Recall Score:  0.63719965295\n",
      "--------------------------------------------------\n",
      "C Parameter:  10\n",
      "Iteration:  1  Recall Score:  0.623529411765\n",
      "Iteration:  2  Recall Score:  0.647727272727\n",
      "Iteration:  3  Recall Score:  0.548076923077\n",
      "Iteration:  4  Recall Score:  0.6625\n",
      "Iteration:  5  Recall Score:  0.712643678161\n",
      "Mean Recall Score:  0.638895457146\n",
      "--------------------------------------------------\n",
      "C Parameter:  100\n",
      "Iteration:  1  Recall Score:  0.623529411765\n",
      "Iteration:  2  Recall Score:  0.647727272727\n",
      "Iteration:  3  Recall Score:  0.548076923077\n",
      "Iteration:  4  Recall Score:  0.6625\n",
      "Iteration:  5  Recall Score:  0.712643678161\n",
      "Mean Recall Score:  0.638895457146\n"
     ]
    },
    {
     "data": {
      "text/html": [
       "<div>\n",
       "<style>\n",
       "    .dataframe thead tr:only-child th {\n",
       "        text-align: right;\n",
       "    }\n",
       "\n",
       "    .dataframe thead th {\n",
       "        text-align: left;\n",
       "    }\n",
       "\n",
       "    .dataframe tbody tr th {\n",
       "        vertical-align: top;\n",
       "    }\n",
       "</style>\n",
       "<table border=\"1\" class=\"dataframe\">\n",
       "  <thead>\n",
       "    <tr style=\"text-align: right;\">\n",
       "      <th></th>\n",
       "      <th>c</th>\n",
       "      <th>mean_recall</th>\n",
       "    </tr>\n",
       "  </thead>\n",
       "  <tbody>\n",
       "    <tr>\n",
       "      <th>0</th>\n",
       "      <td>0.01</td>\n",
       "      <td>0.547809</td>\n",
       "    </tr>\n",
       "    <tr>\n",
       "      <th>1</th>\n",
       "      <td>0.10</td>\n",
       "      <td>0.616884</td>\n",
       "    </tr>\n",
       "    <tr>\n",
       "      <th>2</th>\n",
       "      <td>1.00</td>\n",
       "      <td>0.637200</td>\n",
       "    </tr>\n",
       "    <tr>\n",
       "      <th>3</th>\n",
       "      <td>10.00</td>\n",
       "      <td>0.638895</td>\n",
       "    </tr>\n",
       "    <tr>\n",
       "      <th>4</th>\n",
       "      <td>100.00</td>\n",
       "      <td>0.638895</td>\n",
       "    </tr>\n",
       "  </tbody>\n",
       "</table>\n",
       "</div>"
      ],
      "text/plain": [
       "        c  mean_recall\n",
       "0    0.01     0.547809\n",
       "1    0.10     0.616884\n",
       "2    1.00     0.637200\n",
       "3   10.00     0.638895\n",
       "4  100.00     0.638895"
      ]
     },
     "metadata": {},
     "output_type": "display_data"
    },
    {
     "name": "stdout",
     "output_type": "stream",
     "text": [
      "Best C Parameter:  10.0\n"
     ]
    }
   ],
   "source": [
    "best_c_param = kfold_wrapper(X, Y)"
   ]
  },
  {
   "cell_type": "code",
   "execution_count": 21,
   "metadata": {},
   "outputs": [
    {
     "data": {
      "text/plain": [
       "LogisticRegression(C=10.0, class_weight=None, dual=False, fit_intercept=True,\n",
       "          intercept_scaling=1, max_iter=100, multi_class='ovr', n_jobs=1,\n",
       "          penalty='l1', random_state=None, solver='liblinear', tol=0.0001,\n",
       "          verbose=0, warm_start=False)"
      ]
     },
     "execution_count": 21,
     "metadata": {},
     "output_type": "execute_result"
    }
   ],
   "source": [
    "model = LogisticRegression(C = best_c_param, penalty = 'l1')\n",
    "model.fit(X, Y)"
   ]
  },
  {
   "cell_type": "markdown",
   "metadata": {},
   "source": [
    "Applying the model on test data and ploting the congusion matrix. "
   ]
  },
  {
   "cell_type": "code",
   "execution_count": 22,
   "metadata": {
    "scrolled": true
   },
   "outputs": [
    {
     "name": "stdout",
     "output_type": "stream",
     "text": [
      "[[255845     37]\n",
      " [   163    281]]\n"
     ]
    },
    {
     "data": {
      "image/png": "[encoded data removed]",
      "text/plain": [
       "<matplotlib.figure.Figure at 0xbe8deb8>"
      ]
     },
     "metadata": {},
     "output_type": "display_data"
    },
    {
     "name": "stdout",
     "output_type": "stream",
     "text": [
      "Precision    =  0.88365\n",
      "Recall (TPR) =  0.63288\n",
      "Accuracy     =  0.99922\n"
     ]
    }
   ],
   "source": [
    "y_pred = model.predict(X)\n",
    "cm = confusion_matrix(Y, y_pred)\n",
    "print(cm)\n",
    "plot_confusion_matrix(cm, ['0', '1'], title = 'Confusion Matrix- Test Data')\n",
    "pr, tpr, acc = show_data(cm, print_res = 1);"
   ]
  },
  {
   "cell_type": "markdown",
   "metadata": {},
   "source": [
    "Applying the model on fraud data only and ploting the congusion matrix. "
   ]
  },
  {
   "cell_type": "code",
   "execution_count": 23,
   "metadata": {},
   "outputs": [
    {
     "name": "stdout",
     "output_type": "stream",
     "text": [
      "[[  0   0]\n",
      " [180 312]]\n"
     ]
    },
    {
     "data": {
      "image/png": "[encoded data removed]",
      "text/plain": [
       "<matplotlib.figure.Figure at 0xbe8d1d0>"
      ]
     },
     "metadata": {},
     "output_type": "display_data"
    },
    {
     "name": "stdout",
     "output_type": "stream",
     "text": [
      "Precision    =  1.00000\n",
      "Recall (TPR) =  0.63415\n",
      "Accuracy     =  0.63415\n"
     ]
    }
   ],
   "source": [
    "y_pred = model.predict(X_fraud)\n",
    "cm = confusion_matrix(Y_fraud, y_pred)\n",
    "print(cm)\n",
    "plot_confusion_matrix(cm, ['0', '1'], title = 'Confusion Matrix- Fraud Data')\n",
    "pr, tpr, acc = show_data(cm, print_res = 1);"
   ]
  },
  {
   "cell_type": "markdown",
   "metadata": {},
   "source": [
    "Applying the model on entire dataset and plotting the confusion matrix. "
   ]
  },
  {
   "cell_type": "code",
   "execution_count": 24,
   "metadata": {},
   "outputs": [
    {
     "name": "stdout",
     "output_type": "stream",
     "text": [
      "[[284272     43]\n",
      " [   180    312]]\n"
     ]
    },
    {
     "data": {
      "image/png": "[encoded data removed]",
      "text/plain": [
       "<matplotlib.figure.Figure at 0xc35ecf8>"
      ]
     },
     "metadata": {},
     "output_type": "display_data"
    },
    {
     "name": "stdout",
     "output_type": "stream",
     "text": [
      "Precision    =  0.87887\n",
      "Recall (TPR) =  0.63415\n",
      "Accuracy     =  0.99922\n"
     ]
    }
   ],
   "source": [
    "y_pred = model.predict(df[df.columns[0:30]])\n",
    "cm = confusion_matrix(df[df.columns[30]], y_pred)\n",
    "print(cm)\n",
    "plot_confusion_matrix(cm, ['0', '1'], title = 'Confusion Matrix- Whole Data')\n",
    "pr, tpr, acc = show_data(cm, print_res = 1);"
   ]
  }
 ],
 "metadata": {
  "kernelspec": {
   "display_name": "Python 3",
   "language": "python",
   "name": "python3"
  },
  "language_info": {
   "codemirror_mode": {
    "name": "ipython",
    "version": 3
   },
   "file_extension": ".py",
   "mimetype": "text/x-python",
   "name": "python",
   "nbconvert_exporter": "python",
   "pygments_lexer": "ipython3",
   "version": "3.6.3"
  }
 },
 "nbformat": 4,
 "nbformat_minor": 2
}
